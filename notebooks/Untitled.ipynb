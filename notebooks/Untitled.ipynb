{
 "cells": [
  {
   "cell_type": "code",
   "execution_count": 2,
   "metadata": {
    "collapsed": true
   },
   "outputs": [],
   "source": [
    "import pandas as pd\n",
    "from bs4 import BeautifulSoup"
   ]
  },
  {
   "cell_type": "code",
   "execution_count": 3,
   "metadata": {
    "collapsed": true
   },
   "outputs": [],
   "source": [
    "race_points = {1:50, 2:40, 3:36, 4:32, 5:30, 6:28, 7:26, 8:24, 9:22, 10:20, 11:18, 12:16, 13:14, 14:12, 15:10, 16:8, 17:6, 18:4, 19:2, 20:1}"
   ]
  },
  {
   "cell_type": "code",
   "execution_count": 12,
   "metadata": {},
   "outputs": [],
   "source": [
    "def extract_data(html_file, race_key, export_csv = False):\n",
    "    with open(html_file, 'r') as html_doc:\n",
    "        soup = BeautifulSoup(html_doc, 'html.parser')\n",
    "    results = soup.find_all('table')[1]\n",
    "    result_soup = BeautifulSoup(str(results), 'html.parser')\n",
    "    \n",
    "    header = [item.string for item in results.find_all('tr')[0] if item.string != '\\n']\n",
    "    rows = [[item.string for item in row if item.string != '\\n'] for row in results.find_all('tr')]\n",
    "\n",
    "    if export_csv:\n",
    "        print(\"I'll implement this later, sorry\")\n",
    "    \n",
    "    df = pd.DataFrame({f'position-{race_key}': [row[0] for row in rows[1:]], f'points-{race_key}': [race_points[int(row[0])] for row in rows[1:]]}, index=[row[6] for row in rows[1:]])\n",
    "    \n",
    "    return df"
   ]
  },
  {
   "cell_type": "code",
   "execution_count": 13,
   "metadata": {},
   "outputs": [
    {
     "name": "stdout",
     "output_type": "stream",
     "text": [
      "I'll implement this later, sorry\n"
     ]
    },
    {
     "data": {
      "text/html": [
       "<div>\n",
       "<style>\n",
       "    .dataframe thead tr:only-child th {\n",
       "        text-align: right;\n",
       "    }\n",
       "\n",
       "    .dataframe thead th {\n",
       "        text-align: left;\n",
       "    }\n",
       "\n",
       "    .dataframe tbody tr th {\n",
       "        vertical-align: top;\n",
       "    }\n",
       "</style>\n",
       "<table border=\"1\" class=\"dataframe\">\n",
       "  <thead>\n",
       "    <tr style=\"text-align: right;\">\n",
       "      <th></th>\n",
       "      <th>points-test</th>\n",
       "      <th>position-test</th>\n",
       "    </tr>\n",
       "  </thead>\n",
       "  <tbody>\n",
       "    <tr>\n",
       "      <th>Atomic Chibi</th>\n",
       "      <td>50</td>\n",
       "      <td>1</td>\n",
       "    </tr>\n",
       "    <tr>\n",
       "      <th>Lego Car</th>\n",
       "      <td>40</td>\n",
       "      <td>2</td>\n",
       "    </tr>\n",
       "    <tr>\n",
       "      <th>RU Greasy</th>\n",
       "      <td>36</td>\n",
       "      <td>3</td>\n",
       "    </tr>\n",
       "    <tr>\n",
       "      <th>The Bus</th>\n",
       "      <td>32</td>\n",
       "      <td>4</td>\n",
       "    </tr>\n",
       "    <tr>\n",
       "      <th>Amazon Box</th>\n",
       "      <td>30</td>\n",
       "      <td>5</td>\n",
       "    </tr>\n",
       "    <tr>\n",
       "      <th>Blue Meanie</th>\n",
       "      <td>28</td>\n",
       "      <td>6</td>\n",
       "    </tr>\n",
       "    <tr>\n",
       "      <th>Electric Koolaid Acid Test</th>\n",
       "      <td>26</td>\n",
       "      <td>7</td>\n",
       "    </tr>\n",
       "    <tr>\n",
       "      <th>MAV 721</th>\n",
       "      <td>24</td>\n",
       "      <td>8</td>\n",
       "    </tr>\n",
       "    <tr>\n",
       "      <th>Smoothie</th>\n",
       "      <td>22</td>\n",
       "      <td>9</td>\n",
       "    </tr>\n",
       "    <tr>\n",
       "      <th>Maximum Overdrive</th>\n",
       "      <td>20</td>\n",
       "      <td>10</td>\n",
       "    </tr>\n",
       "    <tr>\n",
       "      <th>FUBAR</th>\n",
       "      <td>18</td>\n",
       "      <td>11</td>\n",
       "    </tr>\n",
       "    <tr>\n",
       "      <th>Aerobot</th>\n",
       "      <td>16</td>\n",
       "      <td>12</td>\n",
       "    </tr>\n",
       "    <tr>\n",
       "      <th>Train Wrecks</th>\n",
       "      <td>14</td>\n",
       "      <td>13</td>\n",
       "    </tr>\n",
       "    <tr>\n",
       "      <th>Go Shopping Kart</th>\n",
       "      <td>12</td>\n",
       "      <td>14</td>\n",
       "    </tr>\n",
       "    <tr>\n",
       "      <th>LIVFREE</th>\n",
       "      <td>10</td>\n",
       "      <td>15</td>\n",
       "    </tr>\n",
       "    <tr>\n",
       "      <th>Lightning McQueen</th>\n",
       "      <td>8</td>\n",
       "      <td>16</td>\n",
       "    </tr>\n",
       "    <tr>\n",
       "      <th>ITSABert</th>\n",
       "      <td>6</td>\n",
       "      <td>17</td>\n",
       "    </tr>\n",
       "    <tr>\n",
       "      <th>The Chariot</th>\n",
       "      <td>4</td>\n",
       "      <td>18</td>\n",
       "    </tr>\n",
       "  </tbody>\n",
       "</table>\n",
       "</div>"
      ],
      "text/plain": [
       "                            points-test position-test\n",
       "Atomic Chibi                         50             1\n",
       "Lego Car                             40             2\n",
       "RU Greasy                            36             3\n",
       "The Bus                              32             4\n",
       "Amazon Box                           30             5\n",
       "Blue Meanie                          28             6\n",
       "Electric Koolaid Acid Test           26             7\n",
       "MAV 721                              24             8\n",
       "Smoothie                             22             9\n",
       "Maximum Overdrive                    20            10\n",
       "FUBAR                                18            11\n",
       "Aerobot                              16            12\n",
       "Train Wrecks                         14            13\n",
       "Go Shopping Kart                     12            14\n",
       "LIVFREE                              10            15\n",
       "Lightning McQueen                     8            16\n",
       "ITSABert                              6            17\n",
       "The Chariot                           4            18"
      ]
     },
     "execution_count": 13,
     "metadata": {},
     "output_type": "execute_result"
    }
   ],
   "source": [
    "extract_data('sample-data.html', 'test', True)"
   ]
  },
  {
   "cell_type": "code",
   "execution_count": 19,
   "metadata": {
    "collapsed": true
   },
   "outputs": [],
   "source": [
    "def combine_tables(*args, event_key=''):\n",
    "    df = pd.concat(args, axis=1)\n",
    "    print(df)\n",
    "    df.to_csv(f'{event_key}-rac')"
   ]
  },
  {
   "cell_type": "code",
   "execution_count": 20,
   "metadata": {},
   "outputs": [
    {
     "name": "stdout",
     "output_type": "stream",
     "text": [
      "                            points-a position-a  points-b position-b\n",
      "Atomic Chibi                      50          1        50          1\n",
      "Lego Car                          40          2        40          2\n",
      "RU Greasy                         36          3        36          3\n",
      "The Bus                           32          4        32          4\n",
      "Amazon Box                        30          5        30          5\n",
      "Blue Meanie                       28          6        28          6\n",
      "Electric Koolaid Acid Test        26          7        26          7\n",
      "MAV 721                           24          8        24          8\n",
      "Smoothie                          22          9        22          9\n",
      "Maximum Overdrive                 20         10        20         10\n",
      "FUBAR                             18         11        18         11\n",
      "Aerobot                           16         12        16         12\n",
      "Train Wrecks                      14         13        14         13\n",
      "Go Shopping Kart                  12         14        12         14\n",
      "LIVFREE                           10         15        10         15\n",
      "Lightning McQueen                  8         16         8         16\n",
      "ITSABert                           6         17         6         17\n",
      "The Chariot                        4         18         4         18\n"
     ]
    }
   ],
   "source": [
    "combine_tables(extract_data('sample-data.html', 'a'), extract_data('sample-data.html', 'b'))"
   ]
  }
 ],
 "metadata": {
  "kernelspec": {
   "display_name": "Python 3",
   "language": "python",
   "name": "python3"
  },
  "language_info": {
   "codemirror_mode": {
    "name": "ipython",
    "version": 3
   },
   "file_extension": ".py",
   "mimetype": "text/x-python",
   "name": "python",
   "nbconvert_exporter": "python",
   "pygments_lexer": "ipython3",
   "version": "3.6.2"
  }
 },
 "nbformat": 4,
 "nbformat_minor": 2
}
